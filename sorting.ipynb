{
 "cells": [
  {
   "cell_type": "markdown",
   "metadata": {},
   "source": [
    "### Bubble sort\n",
    "**Алгоритм:**\n",
    "\n",
    "Или сортировка простыми обменами. Бессмертная классика жанра. Принцип действий прост: обходим массив от начала до конца, попутно меняя местами неотсортированные соседние элементы. В результате первого прохода на последнее место «всплывёт» максимальный элемент. Теперь снова обходим неотсортированную часть массива (от первого элемента до предпоследнего) и меняем по пути неотсортированных соседей. Второй по величине элемент окажется на предпоследнем месте. Продолжая в том же духе, будем обходить всё уменьшающуюся неотсортированную часть массива, запихивая найденные максимумы в конец.\n",
    "\n",
    "![Bubble sort](https://habrastorage.org/getpro/habr/post_images/187/5a3/929/1875a3929dd14c8ea5ff4ccc3d0db9bd.gif)\n",
    "\n",
    "Худшее время O(n<sup>2</sup>)\n",
    "\n",
    "Лучшее время O(n)\n",
    "\n",
    "Среднее время O(n<sup>2</sup>)"
   ]
  },
  {
   "cell_type": "code",
   "execution_count": 15,
   "metadata": {},
   "outputs": [],
   "source": [
    "def bubble_sort(array: list[int]) -> list[int]:\n",
    "    # Ваш код\n",
    "    pass"
   ]
  },
  {
   "cell_type": "markdown",
   "metadata": {},
   "source": [
    "### Cocktail shaker sort\n",
    "**Алгоритм:**\n",
    "\n",
    "Она же сортировка перемешиванием, она же коктейльная сортировка. Начинается процесс как в «пузырьке»: выдавливаем максимум на самые задворки. После этого разворачиваемся на 180 и идём в обратную сторону, при этом уже перекатывая в начало не максимум, а минимум. Отсортировав в массиве первый и последний элементы, снова делаем кульбит. Обойдя туда-обратно несколько раз, в итоге заканчиваем процесс, оказавшись в середине списка.\n",
    "\n",
    "![Cocktail sort](https://habrastorage.org/getpro/habr/post_images/187/5a3/929/1875a3929dd14c8ea5ff4ccc3d0db9bd.gif)\n",
    "\n",
    "Худшее время O(n<sup>2</sup>)\n",
    "\n",
    "Лучшее время O(n)\n",
    "\n",
    "Среднее время O(n<sup>2</sup>)"
   ]
  },
  {
   "cell_type": "code",
   "execution_count": 16,
   "metadata": {},
   "outputs": [],
   "source": [
    "def cocktail_shaker_sort(array: list[int]) -> list[int]:\n",
    "    # Ваш код\n",
    "    pass"
   ]
  },
  {
   "cell_type": "markdown",
   "metadata": {},
   "source": [
    "### Insertion sort\n",
    "**Алгоритм:**\n",
    "\n",
    "Проходим по массиву слева направо и обрабатываем по очереди каждый элемент. Слева от очередного элемента наращиваем отсортированную часть массива, справа по мере процесса потихоньку испаряется неотсортированная. В отсортированной части массива ищется точка вставки для очередного элемента. Сам элемент отправляется в буфер, в результате чего в массиве появляется свободная ячейка — это позволяет сдвинуть элементы и освободить точку вставки.\n",
    "\n",
    "![Insertion sort](https://upload.wikimedia.org/wikipedia/commons/0/0f/Insertion-sort-example-300px.gif)\n",
    "\n",
    "Худшее время O(n<sup>2</sup>)\n",
    "\n",
    "Лучшее время O(n)\n",
    "\n",
    "Среднее время O(n<sup>2</sup>)"
   ]
  },
  {
   "cell_type": "code",
   "execution_count": 17,
   "metadata": {},
   "outputs": [],
   "source": [
    "def insertion_sort(array: list[int]) -> list[int]:\n",
    "    # Ваш код\n",
    "    pass"
   ]
  },
  {
   "cell_type": "markdown",
   "metadata": {},
   "source": [
    "### Selection sort\n",
    "**Алгоритм:**\n",
    "\n",
    "Просто и незатейливо — проходим по массиву в поисках максимального элемента. Найденный максимум меняем местами с последним элементом. Неотсортированная часть массива уменьшилась на один элемент (не включает последний элемент, куда мы переставили найденный максимум). К этой неотсортированной части применяем те же действия — находим максимум и ставим его на последнее место в неотсортированной части массива. И так продолжаем до тех пор, пока неотсортированная часть массива не уменьшится до одного элемента.\n",
    "\n",
    "![Selection sort](https://habrastorage.org/webt/yt/cs/fz/ytcsfzyhzn9xy8opfyodmgz-a4u.gif)\n",
    "\n",
    "Худшее время O(n<sup>2</sup>)\n",
    "\n",
    "Лучшее время O(n<sup>2</sup>)\n",
    "\n",
    "Среднее время O(n<sup>2</sup>)"
   ]
  },
  {
   "cell_type": "code",
   "execution_count": 18,
   "metadata": {},
   "outputs": [],
   "source": [
    "def selection_sort(array: list[int]) -> list[int]:\n",
    "    # Ваш код\n",
    "    pass"
   ]
  },
  {
   "cell_type": "markdown",
   "metadata": {},
   "source": [
    "### Merge sort\n",
    "**Алгоритм:**\n",
    "\n",
    "Алгоритм использует принцип «разделяй и властвуй»: задача разбивается на подзадачи меньшего размера, которые решаются по отдельности, после чего их решения комбинируются для получения решения исходной задачи. Конкретно процедуру сортировки слиянием можно описать следующим образом:\n",
    "\n",
    " 1) Если в рассматриваемом массиве один элемент, то он уже отсортирован — алгоритм завершает работу.\n",
    " 2) Иначе массив разбивается на две части, которые сортируются рекурсивно.\n",
    " 3) После сортировки двух частей массива к ним применяется процедура слияния, которая по двум отсортированным частям получает исходный отсортированный массив.\n",
    "\n",
    "![Merge sort](https://upload.wikimedia.org/wikipedia/commons/c/cc/Merge-sort-example-300px.gif)\n"
   ]
  },
  {
   "cell_type": "code",
   "execution_count": 27,
   "metadata": {},
   "outputs": [],
   "source": [
    "def merge_sort(array: list[int]) -> list[int]:\n",
    "    # Ваш код\n",
    "    pass"
   ]
  },
  {
   "cell_type": "code",
   "execution_count": 20,
   "metadata": {},
   "outputs": [],
   "source": [
    "from typing import Callable\n",
    "import matplotlib.pyplot as plt\n",
    "import random\n",
    "import time\n",
    "\n",
    "\n",
    "def _get_sort_time(data: list[list[int]], sort: Callable) -> list[float]:\n",
    "    times = []\n",
    "\n",
    "    for i in range(len(data)):\n",
    "        now = time.time()\n",
    "        sort(data[i])\n",
    "        times.append(time.time() - now)\n",
    "\n",
    "    return times"
   ]
  },
  {
   "cell_type": "code",
   "execution_count": 21,
   "metadata": {},
   "outputs": [],
   "source": [
    "def _get_random_array(length: int) -> list[list[int]]:\n",
    "    array = []\n",
    "\n",
    "    for i in range(length):\n",
    "        array.append([random.randint(1, 500) for _ in range(i)])\n",
    "\n",
    "    return array"
   ]
  },
  {
   "cell_type": "code",
   "execution_count": 22,
   "metadata": {},
   "outputs": [],
   "source": [
    "def _get_data(amount_of_sorts: int, sorts: list[Callable]) -> list[list[float]]:\n",
    "    data = []\n",
    "    random_array = _get_random_array(amount_of_sorts)\n",
    "\n",
    "    for sort in sorts:\n",
    "        data.append(_get_sort_time(random_array, sort))\n",
    "\n",
    "    return data"
   ]
  },
  {
   "cell_type": "code",
   "execution_count": 23,
   "metadata": {},
   "outputs": [],
   "source": [
    "def _draw(data: list[list[float]], labels: list[str]) -> None:\n",
    "    fig = plt.figure(figsize=(7,4))\n",
    "    ax = fig.subplots()\n",
    "\n",
    "    ax.set_title(\"Sorting analysis\", fontsize=\"24\", fontweight=\"17\")\n",
    "    ax.set_ylabel(\"Time\", fontsize=\"14\")\n",
    "    ax.set_xlabel(\"Size\", fontsize=\"14\")\n",
    "\n",
    "    plt.style.use('seaborn-v0_8-colorblind')\n",
    "\n",
    "    for i in range(len(data)):\n",
    "        ax.semilogx(range(len(data[i])), data[i], label=labels[i])\n",
    "\n",
    "    ax.legend()\n",
    "    plt.show()\n"
   ]
  },
  {
   "cell_type": "code",
   "execution_count": null,
   "metadata": {},
   "outputs": [],
   "source": [
    "_draw(_get_data(10, [\n",
    "    bubble_sort,\n",
    "    cocktail_shaker_sort,\n",
    "    insertion_sort,\n",
    "    selection_sort,\n",
    "    merge_sort\n",
    "]), [\"bubble\", \"cocktail\", \"insertion\", \"selection\", \"merge\"])"
   ]
  }
 ],
 "metadata": {
  "kernelspec": {
   "display_name": "Python 3",
   "language": "python",
   "name": "python3"
  },
  "language_info": {
   "codemirror_mode": {
    "name": "ipython",
    "version": 3
   },
   "file_extension": ".py",
   "mimetype": "text/x-python",
   "name": "python",
   "nbconvert_exporter": "python",
   "pygments_lexer": "ipython3",
   "version": "3.12.3"
  }
 },
 "nbformat": 4,
 "nbformat_minor": 2
}
